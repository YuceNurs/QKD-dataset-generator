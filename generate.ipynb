{
 "cells": [
  {
   "cell_type": "code",
   "execution_count": 1,
   "id": "05bacd4b-83e9-4169-b767-247cbe1e5729",
   "metadata": {},
   "outputs": [
    {
     "name": "stdout",
     "output_type": "stream",
     "text": [
      "   distance_km  channel_loss_dB  transmission   photon_rate  dark_count_rate  \\\n",
      "0    37.454012         7.207286      0.389118  4.863978e+06         0.000178   \n",
      "1    95.071431        18.873580      0.121177  1.514715e+06         0.000375   \n",
      "2    73.199394        14.554837      0.186630  2.332875e+06         0.000197   \n",
      "3    59.865848        11.873664      0.244019  3.050235e+06         0.000227   \n",
      "4    15.601864         2.797916      0.604753  7.559413e+06         0.000092   \n",
      "\n",
      "   decoy_mean_photon      qber  error_correction_f           SKR  \n",
      "0           0.475114  0.020128            1.203728  1.299719e+06  \n",
      "1           0.134573  0.028407            1.137458  1.104423e+05  \n",
      "2           0.245799  0.025316            1.123673  2.778952e+05  \n",
      "3           0.292673  0.023432            1.271653  4.732731e+05  \n",
      "4           0.590419  0.016997            1.297364  3.266864e+06  \n"
     ]
    }
   ],
   "source": [
    "import numpy as np\n",
    "import pandas as pd\n",
    "\n",
    "def binary_entropy(e):\n",
    "    e = np.clip(e, 1e-12, 1 - 1e-12)\n",
    "    return -e * np.log2(e) - (1 - e) * np.log2(1 - e)\n",
    "\n",
    "np.random.seed(42)\n",
    "n_samples = 40000\n",
    "\n",
    "# Mesafe (km)\n",
    "distance_km = np.random.uniform(0, 100, n_samples)\n",
    "\n",
    "# Kanal kaybı (dB)\n",
    "channel_loss_dB = distance_km * 0.2 + np.random.normal(0, 0.5, n_samples)\n",
    "channel_loss_dB = np.clip(channel_loss_dB, 0, 25)\n",
    "\n",
    "# Transmission: önerilen üssel azalma\n",
    "transmission = 0.8 * np.exp(-channel_loss_dB / 10)\n",
    "transmission = np.clip(transmission, 0.05, 0.8)\n",
    "\n",
    "# Photon rate: önerilen aralıkta, kanal kaybına bağlı\n",
    "photon_rate = 1e7 * np.exp(-channel_loss_dB / 10)\n",
    "photon_rate = np.clip(photon_rate, 1e5, 1e7)\n",
    "\n",
    "# Dark count rate: log-normal dağılım\n",
    "dark_count_rate = np.random.lognormal(mean=-8, sigma=1, size=n_samples)\n",
    "dark_count_rate = np.clip(dark_count_rate, 1e-7, 1e-3)\n",
    "\n",
    "# Decoy mean photon: transmission + normal gürültü\n",
    "decoy_mean_photon = 0.1 + 0.8 * transmission + np.random.normal(0, 0.05, n_samples)\n",
    "decoy_mean_photon = np.clip(decoy_mean_photon, 0.1, 0.9)\n",
    "\n",
    "# QBER: yeni base_error ve katsayılar\n",
    "base_error = 0.015  # 0.01 - 0.02 arası\n",
    "qber = base_error + 0.015 * (channel_loss_dB / channel_loss_dB.max()) + 0.25 * dark_count_rate\n",
    "qber = np.clip(qber, 0.01, 0.15)\n",
    "\n",
    "# Hata düzeltme katsayısı f (1.1 - 1.3)\n",
    "f = np.random.uniform(1.1, 1.3, n_samples)\n",
    "\n",
    "# Ham anahtar hızı R\n",
    "R = photon_rate * transmission\n",
    "\n",
    "# Binary entropy H(QBER)\n",
    "H_qber = binary_entropy(qber)\n",
    "\n",
    "# SKR (Devetak-Winter Bound sade hali)\n",
    "SKR = R * (1 - f * H_qber - H_qber)\n",
    "SKR = np.clip(SKR, 0, None)\n",
    "\n",
    "data = {\n",
    "    \"distance_km\": distance_km,\n",
    "    \"channel_loss_dB\": channel_loss_dB,\n",
    "    \"transmission\": transmission,\n",
    "    \"photon_rate\": photon_rate,\n",
    "    \"dark_count_rate\": dark_count_rate,\n",
    "    \"decoy_mean_photon\": decoy_mean_photon,\n",
    "    \"qber\": qber,\n",
    "    \"error_correction_f\": f,\n",
    "    \"SKR\": SKR,\n",
    "}\n",
    "\n",
    "df = pd.DataFrame(data)\n",
    "\n",
    "df.to_csv(\"qkd_final_revised_dataset_40k.csv\", index=False)\n"
   ]
  },
  {
   "cell_type": "code",
   "execution_count": 2,
   "id": "c58ccaec-1348-4a86-9eed-17162ae46db3",
   "metadata": {},
   "outputs": [
    {
     "name": "stdout",
     "output_type": "stream",
     "text": [
      "C:\\Users\\yucen\\DepresyonModel\n"
     ]
    }
   ],
   "source": [
    "import os\n",
    "print(os.getcwd())"
   ]
  },
  {
   "cell_type": "code",
   "execution_count": null,
   "id": "38d95795-1e71-484d-ad33-df53e75f8642",
   "metadata": {},
   "outputs": [],
   "source": []
  }
 ],
 "metadata": {
  "kernelspec": {
   "display_name": "Python (tf_env)",
   "language": "python",
   "name": "tf_env"
  },
  "language_info": {
   "codemirror_mode": {
    "name": "ipython",
    "version": 3
   },
   "file_extension": ".py",
   "mimetype": "text/x-python",
   "name": "python",
   "nbconvert_exporter": "python",
   "pygments_lexer": "ipython3",
   "version": "3.10.10"
  }
 },
 "nbformat": 4,
 "nbformat_minor": 5
}
